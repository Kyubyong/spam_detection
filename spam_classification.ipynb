{
 "cells": [
  {
   "cell_type": "markdown",
   "metadata": {},
   "source": [
    "# Spam Classification Under Semi-supervised Settings"
   ]
  },
  {
   "cell_type": "markdown",
   "metadata": {},
   "source": [
    "This code is partly based on https://www.kaggle.com/kredy10/simple-lstm-for-text-classification"
   ]
  },
  {
   "cell_type": "markdown",
   "metadata": {},
   "source": [
    "## First things first"
   ]
  },
  {
   "cell_type": "code",
   "execution_count": 98,
   "metadata": {
    "collapsed": false
   },
   "outputs": [],
   "source": [
    "import pandas as pd\n",
    "import numpy as np\n",
    "import matplotlib.pyplot as plt\n",
    "%matplotlib inline\n",
    "from nltk.tokenize import word_tokenize\n"
   ]
  },
  {
   "cell_type": "code",
   "execution_count": 99,
   "metadata": {
    "collapsed": false
   },
   "outputs": [],
   "source": [
    "from sklearn.model_selection import train_test_split\n",
    "from sklearn.metrics import precision_score, recall_score, f1_score, confusion_matrix"
   ]
  },
  {
   "cell_type": "code",
   "execution_count": 100,
   "metadata": {
    "collapsed": true
   },
   "outputs": [],
   "source": [
    "import torch\n",
    "from torch import nn\n",
    "from torch.autograd import Variable\n",
    "import torch.nn.functional as F\n",
    "import torch.utils.data as Data\n",
    "import torch.optim as optim\n",
    "from torch.nn.utils.rnn import pack_padded_sequence, pad_packed_sequence # for efficient computation of rnns\n",
    "# https://simonjisu.github.io/nlp/2018/07/05/packedsequence.html"
   ]
  },
  {
   "cell_type": "code",
   "execution_count": 101,
   "metadata": {
    "collapsed": true
   },
   "outputs": [],
   "source": [
    "from time import time\n",
    "import copy\n",
    "import random\n",
    "random.seed(1)"
   ]
  },
  {
   "cell_type": "markdown",
   "metadata": {},
   "source": [
    "## Settings"
   ]
  },
  {
   "cell_type": "code",
   "execution_count": 135,
   "metadata": {
    "collapsed": true
   },
   "outputs": [],
   "source": [
    "VOCAB_SIZE=1000\n",
    "MAXLEN=150 # maximum sequence length\n",
    "BATCH_SIZE=64\n",
    "UPSAMPLE=True\n",
    "VAT=True"
   ]
  },
  {
   "cell_type": "markdown",
   "metadata": {},
   "source": [
    "## Data"
   ]
  },
  {
   "cell_type": "markdown",
   "metadata": {},
   "source": [
    "Download SMS Spam Collection Dataset from https://www.kaggle.com/uciml/sms-spam-collection-dataset"
   ]
  },
  {
   "cell_type": "markdown",
   "metadata": {},
   "source": [
    "Load the data into Pandas dataframe"
   ]
  },
  {
   "cell_type": "code",
   "execution_count": 103,
   "metadata": {
    "collapsed": false
   },
   "outputs": [
    {
     "data": {
      "text/html": [
       "<div>\n",
       "<style scoped>\n",
       "    .dataframe tbody tr th:only-of-type {\n",
       "        vertical-align: middle;\n",
       "    }\n",
       "\n",
       "    .dataframe tbody tr th {\n",
       "        vertical-align: top;\n",
       "    }\n",
       "\n",
       "    .dataframe thead th {\n",
       "        text-align: right;\n",
       "    }\n",
       "</style>\n",
       "<table border=\"1\" class=\"dataframe\">\n",
       "  <thead>\n",
       "    <tr style=\"text-align: right;\">\n",
       "      <th></th>\n",
       "      <th>v1</th>\n",
       "      <th>v2</th>\n",
       "      <th>Unnamed: 2</th>\n",
       "      <th>Unnamed: 3</th>\n",
       "      <th>Unnamed: 4</th>\n",
       "    </tr>\n",
       "  </thead>\n",
       "  <tbody>\n",
       "    <tr>\n",
       "      <th>0</th>\n",
       "      <td>ham</td>\n",
       "      <td>Go until jurong point, crazy.. Available only ...</td>\n",
       "      <td>NaN</td>\n",
       "      <td>NaN</td>\n",
       "      <td>NaN</td>\n",
       "    </tr>\n",
       "    <tr>\n",
       "      <th>1</th>\n",
       "      <td>ham</td>\n",
       "      <td>Ok lar... Joking wif u oni...</td>\n",
       "      <td>NaN</td>\n",
       "      <td>NaN</td>\n",
       "      <td>NaN</td>\n",
       "    </tr>\n",
       "    <tr>\n",
       "      <th>2</th>\n",
       "      <td>spam</td>\n",
       "      <td>Free entry in 2 a wkly comp to win FA Cup fina...</td>\n",
       "      <td>NaN</td>\n",
       "      <td>NaN</td>\n",
       "      <td>NaN</td>\n",
       "    </tr>\n",
       "    <tr>\n",
       "      <th>3</th>\n",
       "      <td>ham</td>\n",
       "      <td>U dun say so early hor... U c already then say...</td>\n",
       "      <td>NaN</td>\n",
       "      <td>NaN</td>\n",
       "      <td>NaN</td>\n",
       "    </tr>\n",
       "    <tr>\n",
       "      <th>4</th>\n",
       "      <td>ham</td>\n",
       "      <td>Nah I don't think he goes to usf, he lives aro...</td>\n",
       "      <td>NaN</td>\n",
       "      <td>NaN</td>\n",
       "      <td>NaN</td>\n",
       "    </tr>\n",
       "  </tbody>\n",
       "</table>\n",
       "</div>"
      ],
      "text/plain": [
       "     v1                                                 v2 Unnamed: 2  \\\n",
       "0   ham  Go until jurong point, crazy.. Available only ...        NaN   \n",
       "1   ham                      Ok lar... Joking wif u oni...        NaN   \n",
       "2  spam  Free entry in 2 a wkly comp to win FA Cup fina...        NaN   \n",
       "3   ham  U dun say so early hor... U c already then say...        NaN   \n",
       "4   ham  Nah I don't think he goes to usf, he lives aro...        NaN   \n",
       "\n",
       "  Unnamed: 3 Unnamed: 4  \n",
       "0        NaN        NaN  \n",
       "1        NaN        NaN  \n",
       "2        NaN        NaN  \n",
       "3        NaN        NaN  \n",
       "4        NaN        NaN  "
      ]
     },
     "execution_count": 103,
     "metadata": {},
     "output_type": "execute_result"
    }
   ],
   "source": [
    "df = pd.read_csv('spam.csv', sep=\",\", encoding=\"latin-1\")\n",
    "df.head()"
   ]
  },
  {
   "cell_type": "markdown",
   "metadata": {},
   "source": [
    "Drop the columns that are not required for the neural network."
   ]
  },
  {
   "cell_type": "code",
   "execution_count": 104,
   "metadata": {
    "collapsed": false
   },
   "outputs": [
    {
     "data": {
      "text/html": [
       "<div>\n",
       "<style scoped>\n",
       "    .dataframe tbody tr th:only-of-type {\n",
       "        vertical-align: middle;\n",
       "    }\n",
       "\n",
       "    .dataframe tbody tr th {\n",
       "        vertical-align: top;\n",
       "    }\n",
       "\n",
       "    .dataframe thead th {\n",
       "        text-align: right;\n",
       "    }\n",
       "</style>\n",
       "<table border=\"1\" class=\"dataframe\">\n",
       "  <thead>\n",
       "    <tr style=\"text-align: right;\">\n",
       "      <th></th>\n",
       "      <th>v1</th>\n",
       "      <th>v2</th>\n",
       "    </tr>\n",
       "  </thead>\n",
       "  <tbody>\n",
       "    <tr>\n",
       "      <th>0</th>\n",
       "      <td>ham</td>\n",
       "      <td>Go until jurong point, crazy.. Available only ...</td>\n",
       "    </tr>\n",
       "    <tr>\n",
       "      <th>1</th>\n",
       "      <td>ham</td>\n",
       "      <td>Ok lar... Joking wif u oni...</td>\n",
       "    </tr>\n",
       "    <tr>\n",
       "      <th>2</th>\n",
       "      <td>spam</td>\n",
       "      <td>Free entry in 2 a wkly comp to win FA Cup fina...</td>\n",
       "    </tr>\n",
       "    <tr>\n",
       "      <th>3</th>\n",
       "      <td>ham</td>\n",
       "      <td>U dun say so early hor... U c already then say...</td>\n",
       "    </tr>\n",
       "    <tr>\n",
       "      <th>4</th>\n",
       "      <td>ham</td>\n",
       "      <td>Nah I don't think he goes to usf, he lives aro...</td>\n",
       "    </tr>\n",
       "  </tbody>\n",
       "</table>\n",
       "</div>"
      ],
      "text/plain": [
       "     v1                                                 v2\n",
       "0   ham  Go until jurong point, crazy.. Available only ...\n",
       "1   ham                      Ok lar... Joking wif u oni...\n",
       "2  spam  Free entry in 2 a wkly comp to win FA Cup fina...\n",
       "3   ham  U dun say so early hor... U c already then say...\n",
       "4   ham  Nah I don't think he goes to usf, he lives aro..."
      ]
     },
     "execution_count": 104,
     "metadata": {},
     "output_type": "execute_result"
    }
   ],
   "source": [
    "df.drop(['Unnamed: 2', 'Unnamed: 3', 'Unnamed: 4'],axis=1,inplace=True)\n",
    "df.head()"
   ]
  },
  {
   "cell_type": "code",
   "execution_count": 105,
   "metadata": {
    "collapsed": true
   },
   "outputs": [],
   "source": [
    "sents = df[\"v2\"].tolist() # inputs\n",
    "labels = df[\"v1\"].tolist() # targets"
   ]
  },
  {
   "cell_type": "markdown",
   "metadata": {},
   "source": [
    "Normalize text"
   ]
  },
  {
   "cell_type": "code",
   "execution_count": 106,
   "metadata": {
    "collapsed": true
   },
   "outputs": [],
   "source": [
    "def normalize(sent):\n",
    "    sent = sent.lower()\n",
    "    words = word_tokenize(sent)\n",
    "    return words\n",
    "\n",
    "sents = [normalize(sent) for sent in sents]"
   ]
  },
  {
   "cell_type": "markdown",
   "metadata": {},
   "source": [
    "## Let's create train and test sets\n",
    "\n",
    "\n",
    "\n",
    "\n"
   ]
  },
  {
   "cell_type": "markdown",
   "metadata": {},
   "source": [
    "First, divide data into training and test sets."
   ]
  },
  {
   "cell_type": "code",
   "execution_count": 107,
   "metadata": {
    "collapsed": true
   },
   "outputs": [],
   "source": [
    "sents_train, sents_test, labels_train, labels_test = train_test_split(sents, labels, test_size=.2, shuffle=True)"
   ]
  },
  {
   "cell_type": "markdown",
   "metadata": {},
   "source": [
    "Next, further divide training samples into labeled and unlabeled."
   ]
  },
  {
   "cell_type": "code",
   "execution_count": 108,
   "metadata": {
    "collapsed": true
   },
   "outputs": [],
   "source": [
    "sents_train, sents_ul, labels_train, labels_ul = train_test_split(sents_train, labels_train, test_size=.8, shuffle=True)"
   ]
  },
  {
   "cell_type": "markdown",
   "metadata": {},
   "source": [
    "Let's see how many spams are in the training/unlabeled/test data."
   ]
  },
  {
   "cell_type": "code",
   "execution_count": 109,
   "metadata": {
    "collapsed": false
   },
   "outputs": [
    {
     "name": "stdout",
     "output_type": "stream",
     "text": [
      "There are 891 training samples (116 spams, 775 hams), \n",
      "3566 unlabeled samples (487 spams, 3079 hams), \n",
      "and 1115 test samples (144 spams, 971 hams)\n"
     ]
    }
   ],
   "source": [
    "print(\"There are {} training samples ({} spams, {} hams), \\n\\\n",
    "{} unlabeled samples ({} spams, {} hams), \\n\\\n",
    "and {} test samples ({} spams, {} hams)\".format\\\n",
    "      (len(labels_train), labels_train.count(\"spam\"), labels_train.count(\"ham\"),\\\n",
    "       len(labels_ul), labels_ul.count(\"spam\"), labels_ul.count(\"ham\"),\\\n",
    "       len(labels_test), labels_test.count(\"spam\"), labels_test.count(\"ham\")\\\n",
    "      )\n",
    "     )"
   ]
  },
  {
   "cell_type": "markdown",
   "metadata": {},
   "source": [
    "## Set Vocabulary"
   ]
  },
  {
   "cell_type": "markdown",
   "metadata": {},
   "source": [
    "Include the most frequent n words in vocabulary."
   ]
  },
  {
   "cell_type": "code",
   "execution_count": 110,
   "metadata": {
    "collapsed": true
   },
   "outputs": [],
   "source": [
    "from collections import Counter\n",
    "words = [word for sent in sents_train for word in sent]\n",
    "word2cnt = Counter(words)\n",
    "vocab = [w for w, c in word2cnt.most_common(len(word2cnt))]"
   ]
  },
  {
   "cell_type": "code",
   "execution_count": 111,
   "metadata": {
    "collapsed": true
   },
   "outputs": [],
   "source": [
    "vocab = [\"<PAD>\", \"<EOS>\", \"<UNK>\"] + vocab\n",
    "vocab = vocab[:VOCAB_SIZE]"
   ]
  },
  {
   "cell_type": "markdown",
   "metadata": {},
   "source": [
    "Vocabulary looks like .."
   ]
  },
  {
   "cell_type": "code",
   "execution_count": 112,
   "metadata": {
    "collapsed": false
   },
   "outputs": [
    {
     "data": {
      "text/plain": [
       "['<PAD>', '<EOS>', '<UNK>', '.', 'i', 'to', 'you', ',', '?', '!']"
      ]
     },
     "execution_count": 112,
     "metadata": {},
     "output_type": "execute_result"
    }
   ],
   "source": [
    "vocab[:10]"
   ]
  },
  {
   "cell_type": "markdown",
   "metadata": {},
   "source": [
    "dictionary"
   ]
  },
  {
   "cell_type": "code",
   "execution_count": 113,
   "metadata": {
    "collapsed": true
   },
   "outputs": [],
   "source": [
    "word2idx = {word:idx for idx, word in enumerate(vocab)}\n",
    "idx2word = {idx:word for idx, word in enumerate(vocab)}"
   ]
  },
  {
   "cell_type": "markdown",
   "metadata": {},
   "source": [
    "## Encode"
   ]
  },
  {
   "cell_type": "markdown",
   "metadata": {},
   "source": [
    "### Y or labels"
   ]
  },
  {
   "cell_type": "code",
   "execution_count": 114,
   "metadata": {
    "collapsed": true
   },
   "outputs": [],
   "source": [
    "def encode_labels(labels):\n",
    "    return [1 if l==\"spam\" else 0 for l in labels ]"
   ]
  },
  {
   "cell_type": "code",
   "execution_count": 115,
   "metadata": {
    "collapsed": true
   },
   "outputs": [],
   "source": [
    "_Y_train = encode_labels(labels_train)\n",
    "_Y_ul = encode_labels(labels_ul) # actually this is not needed.\n",
    "_Y_test = encode_labels(labels_test)"
   ]
  },
  {
   "cell_type": "markdown",
   "metadata": {},
   "source": [
    "### X or inputs"
   ]
  },
  {
   "cell_type": "code",
   "execution_count": 116,
   "metadata": {
    "collapsed": true
   },
   "outputs": [],
   "source": [
    "def encode_sents(sents):\n",
    "    X = [] # whole input data encoded\n",
    "    for sent in sents: \n",
    "        sent += [\"<EOS>\"]\n",
    "        sent += [\"<PAD>\"]*MAXLEN \n",
    "        x = [word2idx.get(word, 2) for word in sent[:MAXLEN]] # 2:<UNK>\n",
    "        X.append(x)\n",
    "    return X"
   ]
  },
  {
   "cell_type": "code",
   "execution_count": 117,
   "metadata": {
    "collapsed": true
   },
   "outputs": [],
   "source": [
    "_X_train = encode_sents(sents_train)\n",
    "_X_ul = encode_sents(sents_ul)\n",
    "_X_test = encode_sents(sents_test)"
   ]
  },
  {
   "cell_type": "markdown",
   "metadata": {},
   "source": [
    "### Upsampling"
   ]
  },
  {
   "cell_type": "code",
   "execution_count": 118,
   "metadata": {
    "collapsed": true
   },
   "outputs": [],
   "source": [
    "if UPSAMPLE:\n",
    "    from imblearn.over_sampling import SMOTE\n",
    "    # https://arxiv.org/pdf/1106.1813.pdf\n",
    "    \n",
    "    ros = SMOTE(random_state=0)\n",
    "    _X_train, _Y_train = ros.fit_resample(_X_train, _Y_train) "
   ]
  },
  {
   "cell_type": "markdown",
   "metadata": {},
   "source": [
    "### Convert to tensors"
   ]
  },
  {
   "cell_type": "code",
   "execution_count": 119,
   "metadata": {
    "collapsed": true
   },
   "outputs": [],
   "source": [
    "X_train = torch.LongTensor(_X_train)\n",
    "X_ul = torch.LongTensor(_X_ul)\n",
    "X_test = torch.LongTensor(_X_test)\n",
    "\n",
    "Y_train = torch.LongTensor(_Y_train)\n",
    "Y_ul = torch.LongTensor(_Y_ul)\n",
    "Y_test = torch.LongTensor(_Y_test)"
   ]
  },
  {
   "cell_type": "markdown",
   "metadata": {},
   "source": [
    "## Data Loader"
   ]
  },
  {
   "cell_type": "markdown",
   "metadata": {},
   "source": [
    "train"
   ]
  },
  {
   "cell_type": "code",
   "execution_count": 120,
   "metadata": {
    "collapsed": false
   },
   "outputs": [
    {
     "name": "stdout",
     "output_type": "stream",
     "text": [
      "14\n"
     ]
    }
   ],
   "source": [
    "train_dataset = Data.TensorDataset(X_train, Y_train)\n",
    "train_loader = Data.DataLoader(dataset=train_dataset,\n",
    "                              batch_size=BATCH_SIZE,\n",
    "                              shuffle=True,\n",
    "                              num_workers=4)\n",
    "print(len(train_loader))"
   ]
  },
  {
   "cell_type": "markdown",
   "metadata": {},
   "source": [
    "test"
   ]
  },
  {
   "cell_type": "code",
   "execution_count": 121,
   "metadata": {
    "collapsed": false
   },
   "outputs": [
    {
     "name": "stdout",
     "output_type": "stream",
     "text": [
      "18\n"
     ]
    }
   ],
   "source": [
    "test_dataset = Data.TensorDataset(X_test, Y_test)\n",
    "test_loader = Data.DataLoader(dataset=test_dataset,\n",
    "                              batch_size=BATCH_SIZE,\n",
    "                              shuffle=True,\n",
    "                              num_workers=4)\n",
    "print(len(test_loader))"
   ]
  },
  {
   "cell_type": "markdown",
   "metadata": {},
   "source": [
    "## Model"
   ]
  },
  {
   "cell_type": "code",
   "execution_count": 122,
   "metadata": {
    "collapsed": true
   },
   "outputs": [],
   "source": [
    "from itertools import chain\n",
    "def get_freq():\n",
    "    '''Calculates word frequency i.e. count / total occurrences.\n",
    "    '''\n",
    "    global _X_train\n",
    "    idx2cnt = Counter(chain.from_iterable(_X_train))\n",
    "    pairs = sorted(idx2cnt.items(), key=lambda x: x[0])\n",
    "    cnts = [pair[1] for pair in pairs]\n",
    "    cnts = np.array(cnts)\n",
    "    cnts[0] = 0 # 0's are excluded as they represent paddings.\n",
    "    freq = cnts / cnts.sum()\n",
    "    freq = np.expand_dims(freq, 1).astype('float32')\n",
    "    return torch.from_numpy(freq)"
   ]
  },
  {
   "cell_type": "code",
   "execution_count": 123,
   "metadata": {
    "collapsed": true
   },
   "outputs": [],
   "source": [
    "class Net(nn.Module):\n",
    "    def __init__(self, embedding_dim=50, hidden_dim1=64, hidden_dim2=256, vocab_size=VOCAB_SIZE):\n",
    "        '''\n",
    "        Fix the model architecture and its parameters for this purpose\n",
    "        '''\n",
    "        super(Net, self).__init__()\n",
    "        \n",
    "        self.embed = nn.Embedding(vocab_size, embedding_dim, padding_idx=0)\n",
    "        self.lstm = nn.LSTM(embedding_dim, hidden_dim1)\n",
    "        self.dense = nn.Linear(hidden_dim1, hidden_dim2)\n",
    "        self.dropout = nn.Dropout(.5)\n",
    "        self.readout = nn.Linear(hidden_dim2, 2)\n",
    "\n",
    "    def forward(self, x, vat=False, r=0):\n",
    "        '''x: (batch, maxlen)\n",
    "        vat: boolean.\n",
    "        r: pertubation. if 0, it means no pertubation. Otherwise it's in the shape of (batch, maxlen, embedding_dim)\n",
    "        '''     \n",
    "        # using pack_padded_sequence\n",
    "        # https://gist.github.com/Tushar-N/dfca335e370a2bc3bc79876e6270099e\n",
    "        \n",
    "        # Get sequence lengths\n",
    "        seqlens = (x!=0).sum(1) # Recall 0's are paddings. (batch,) \n",
    "        \n",
    "        # Reverse sort\n",
    "        seqlens_sorted, perm_idx = seqlens.sort(0, descending=True)\n",
    "        x = x[perm_idx]\n",
    "        \n",
    "        # Embedding\n",
    "        if VAT: # Embeddings are normalized and noted as 's' in the paper.\n",
    "            def _normalize(emb):\n",
    "                '''normalizes word embeddings.\n",
    "                emb: (BATCH, VOCAB_SIZE,, embedding_dim)\n",
    "                https://github.com/TobiasLee/Text-Classification/blob/master/models/adversarial_abblstm.py#L20-L26\n",
    "                '''\n",
    "                freq = get_freq() # (VOCAB_SIZE, 1)\n",
    "                \n",
    "                # mean\n",
    "                mean = torch.sum(freq * emb, 0, keepdim=True) # (1, VOCAB_SIZE,, embedding_dim)\n",
    "                var = torch.sum(freq * torch.pow(emb - mean, 2.), 0, keepdim=True) # (1, VOCAB_SIZE,, embedding_dim)\n",
    "                stddev = torch.sqrt(1e-6 + var)\n",
    "                return (emb - mean) / stddev\n",
    "\n",
    "            embeddings = self.embed(torch.arange(VOCAB_SIZE)) # (VOCAB_SIZE, embedding_dim)\n",
    "            normalized_embeddings = _normalize(embeddings)\n",
    "            self.embed.load_state_dict({'weight': normalized_embeddings})  \n",
    "            \n",
    "        x = self.embed(x) # (batch, maxlen, embedding_dim)\n",
    "        \n",
    "        self.v = x # For perturbation\n",
    "        \n",
    "        # Optional pertubation\n",
    "        x += r\n",
    "        \n",
    "        # Transpose for inputting RNNs in pytorch.\n",
    "        x = x.transpose(0, 1) # (maxlen, batch, embedding_dim)\n",
    "       \n",
    "        ## Pack\n",
    "        packed_input = pack_padded_sequence(x, seqlens_sorted)   \n",
    "        outputs, (h, c) = self.lstm(packed_input) # (maxlen, batch, hidden_dim)\n",
    "        \n",
    "        # If you only need the last hidden vectors:\n",
    "        _, unperm_idx = perm_idx.sort(0) # Restore the order\n",
    "        last_hidden_states = h[-1][unperm_idx]\n",
    "        \n",
    "        # Elif you need the entire outputs\n",
    "        outputs, _ = pad_packed_sequence(outputs)\n",
    "        outputs = outputs.transpose(0, 1)\n",
    "   \n",
    "        x = F.relu(self.dense(last_hidden_states))\n",
    "        x = self.dropout(x)\n",
    "        x = self.readout(x)\n",
    "        return F.log_softmax(x, dim=1), F.softmax(x, dim=1)\n",
    "        \n",
    "        \n",
    "        \n",
    "        "
   ]
  },
  {
   "cell_type": "markdown",
   "metadata": {},
   "source": [
    "## Train & test functions"
   ]
  },
  {
   "cell_type": "code",
   "execution_count": 124,
   "metadata": {
    "collapsed": true
   },
   "outputs": [],
   "source": [
    "def vat_loss(model, x, xi=1e-6, eps=1.0, ip=1):\n",
    "    '''\n",
    "    https://github.com/lyakaap/VAT-pytorch/blob/master/vat.py\n",
    "    \n",
    "    x: unlabeled samples\n",
    "    xi: small constant for finite difference\n",
    "    eps: constraint. norm length for (virtual) adversarial training\n",
    "    ip: iteration times of computing adv noise\n",
    "    '''\n",
    "    # get predictions based on normalized v (=s)\n",
    "    _, preds = model(x, vat=True) # softmax values\n",
    "    \n",
    "    # generate pertubation\n",
    "    d = torch.randn_like(model.v)\n",
    "    \n",
    "    def _l2_normalize(d):\n",
    "        norm = torch.norm(d, dim=(1,2), keepdim=True)\n",
    "        d /= norm + 1e-8\n",
    "        return d\n",
    "    \n",
    "    # Calc adversarial direction\n",
    "    for _ in range(ip):\n",
    "        d.requires_grad_()\n",
    "        preds_, _ = model(x, vat=True, r=xi*d)  # perturbed preds. logsoftmax\n",
    "        adv_distance = F.kl_div(preds_, preds) # original preds:perturbed preds (preds || preds_). https://github.com/pytorch/pytorch/issues/7337\n",
    "        adv_distance.backward(retain_graph=True)\n",
    "        d = _l2_normalize(d.grad)\n",
    "        model.zero_grad()\n",
    "        \n",
    "    \n",
    "    # calc LDS (= Local Distributional Smoothness). https://arxiv.org/pdf/1507.00677.pdf\n",
    "    r_vadv = d * eps # r_v-adv: virtual adversarial perturbation\n",
    "    preds_, _ = model(x, vat=True, r=r_vadv) # Worstly perturbed predictions. logsoftmax.\n",
    "    lds = F.kl_div(preds_, preds, reduction='batchmean')\n",
    "    \n",
    "    return lds"
   ]
  },
  {
   "cell_type": "code",
   "execution_count": 125,
   "metadata": {
    "collapsed": false
   },
   "outputs": [],
   "source": [
    "def train(model, train_loader, optimizer, epoch):\n",
    "    model.train()\n",
    "    for batch_idx, (inputs, targets) in enumerate(train_loader):\n",
    "        optimizer.zero_grad()\n",
    "        outputs, _ = model(inputs, vat=VAT) # logsoftmax\n",
    "        loss = F.nll_loss(outputs, targets)\n",
    "        \n",
    "        if VAT:\n",
    "            # Load a minibatch of unlabeled samples\n",
    "            rand_batch_idx = random.randint(0, len(X_ul)-BATCH_SIZE*4)\n",
    "            X_ul_batch = X_ul[rand_batch_idx:rand_batch_idx+BATCH_SIZE*4]      \n",
    "\n",
    "            # vat_loss\n",
    "            lds  = vat_loss(model, X_ul_batch)\n",
    "\n",
    "            # Aggregation\n",
    "            loss += lds\n",
    "        \n",
    "        loss.backward()\n",
    "        optimizer.step()\n",
    "        if batch_idx % 10 == 0:\n",
    "            print('Train Epoch: {} [{}/{} ({:.0f}%)]\\tLoss: {:.6f}'.format(\n",
    "                epoch, batch_idx * len(inputs), len(train_loader.dataset),\n",
    "                       100. * batch_idx / len(train_loader), loss.item()))\n",
    "    return loss"
   ]
  },
  {
   "cell_type": "code",
   "execution_count": 126,
   "metadata": {
    "collapsed": true
   },
   "outputs": [],
   "source": [
    "def test(model, test_loader):\n",
    "    model.eval()\n",
    "    test_loss = 0\n",
    "    y_pred, y_true = [], []\n",
    "    with torch.no_grad():\n",
    "        for inputs, targets in test_loader:\n",
    "            outputs, _ = model(inputs, vat=VAT)\n",
    "            test_loss += F.nll_loss(outputs, targets, reduction='sum').item()  # sum up batch loss\n",
    "            preds = outputs.max(1, keepdim=False)[1]  # get the index of the max log-probability. (batch,)\n",
    "            y_pred.extend(preds.tolist())\n",
    "            y_true.extend(targets.tolist())           \n",
    "\n",
    "    test_loss /= len(test_loader.dataset)\n",
    "    \n",
    "    precision = precision_score(y_true, y_pred)\n",
    "    recall = recall_score(y_true, y_pred)\n",
    "    f1score = f1_score(y_true, y_pred)\n",
    "    tn, fp, fn, tp = confusion_matrix(y_true, y_pred).ravel()\n",
    "\n",
    "    print('\\nTest set: tp %d, fp %d, tn %d, fn %d\\nPrecision: %0.2f, Recall: %0.2f, F1_score: %0.2f\\n' %(\n",
    "        tp, fp, tn, fn,\n",
    "        precision, recall, f1score))\n",
    "    \n",
    "    return precision, f1score"
   ]
  },
  {
   "cell_type": "markdown",
   "metadata": {},
   "source": [
    "## Main"
   ]
  },
  {
   "cell_type": "code",
   "execution_count": 136,
   "metadata": {
    "collapsed": false,
    "scrolled": false
   },
   "outputs": [
    {
     "name": "stderr",
     "output_type": "stream",
     "text": [
      "C:\\Users\\qw\\Anaconda3\\envs\\deep\\lib\\site-packages\\torch\\nn\\functional.py:1906: UserWarning: reduction: 'mean' divides the total loss by both the batch size and the support size.'batchmean' divides only by the batch size, and aligns with the KL div math definition.'mean' will be changed to behave the same as 'batchmean' in the next major release.\n",
      "  warnings.warn(\"reduction: 'mean' divides the total loss by both the batch size and the support size.\"\n"
     ]
    },
    {
     "name": "stdout",
     "output_type": "stream",
     "text": [
      "Train Epoch: 1 [0/891 (0%)]\tLoss: 0.681733\n",
      "Train Epoch: 1 [640/891 (71%)]\tLoss: 0.229353\n",
      "\n",
      "Test set: tp 82, fp 43, tn 928, fn 62\n",
      "Precision: 0.66, Recall: 0.57, F1_score: 0.61\n",
      "\n",
      "Train Epoch: 2 [0/891 (0%)]\tLoss: 0.280099\n",
      "Train Epoch: 2 [640/891 (71%)]\tLoss: 0.078751\n",
      "\n",
      "Test set: tp 92, fp 15, tn 956, fn 52\n",
      "Precision: 0.86, Recall: 0.64, F1_score: 0.73\n",
      "\n",
      "Train Epoch: 3 [0/891 (0%)]\tLoss: 0.087470\n",
      "Train Epoch: 3 [640/891 (71%)]\tLoss: 0.043128\n",
      "\n",
      "Test set: tp 93, fp 12, tn 959, fn 51\n",
      "Precision: 0.89, Recall: 0.65, F1_score: 0.75\n",
      "\n",
      "Train Epoch: 4 [0/891 (0%)]\tLoss: 0.043350\n",
      "Train Epoch: 4 [640/891 (71%)]\tLoss: 0.045020\n",
      "\n",
      "Test set: tp 117, fp 13, tn 958, fn 27\n",
      "Precision: 0.90, Recall: 0.81, F1_score: 0.85\n",
      "\n",
      "Train Epoch: 5 [0/891 (0%)]\tLoss: 0.022923\n",
      "Train Epoch: 5 [640/891 (71%)]\tLoss: 0.057336\n",
      "\n",
      "Test set: tp 120, fp 17, tn 954, fn 24\n",
      "Precision: 0.88, Recall: 0.83, F1_score: 0.85\n",
      "\n",
      "Train Epoch: 6 [0/891 (0%)]\tLoss: 0.044475\n",
      "Train Epoch: 6 [640/891 (71%)]\tLoss: 0.077949\n",
      "\n",
      "Test set: tp 125, fp 21, tn 950, fn 19\n",
      "Precision: 0.86, Recall: 0.87, F1_score: 0.86\n",
      "\n",
      "Train Epoch: 7 [0/891 (0%)]\tLoss: 0.014572\n",
      "Train Epoch: 7 [640/891 (71%)]\tLoss: 0.066663\n",
      "\n",
      "Test set: tp 123, fp 27, tn 944, fn 21\n",
      "Precision: 0.82, Recall: 0.85, F1_score: 0.84\n",
      "\n",
      "Train Epoch: 8 [0/891 (0%)]\tLoss: 0.018784\n",
      "Train Epoch: 8 [640/891 (71%)]\tLoss: 0.013866\n",
      "\n",
      "Test set: tp 130, fp 36, tn 935, fn 14\n",
      "Precision: 0.78, Recall: 0.90, F1_score: 0.84\n",
      "\n",
      "Train Epoch: 9 [0/891 (0%)]\tLoss: 0.011492\n",
      "Train Epoch: 9 [640/891 (71%)]\tLoss: 0.010110\n",
      "\n",
      "Test set: tp 134, fp 43, tn 928, fn 10\n",
      "Precision: 0.76, Recall: 0.93, F1_score: 0.83\n",
      "\n",
      "Train Epoch: 10 [0/891 (0%)]\tLoss: 0.004871\n",
      "Train Epoch: 10 [640/891 (71%)]\tLoss: 0.003182\n",
      "\n",
      "Test set: tp 129, fp 30, tn 941, fn 15\n",
      "Precision: 0.81, Recall: 0.90, F1_score: 0.85\n",
      "\n",
      "204 seconds have passed\n",
      "Best precision = 0.90\n",
      "Best f1 score = 0.86\n"
     ]
    }
   ],
   "source": [
    "start = time()\n",
    "model = Net()\n",
    "optimizer = optim.RMSprop(model.parameters(), lr=.001)\n",
    "\n",
    "losses, precisions, f1scores = [], [], []\n",
    "for epoch in range(1, 10+1):\n",
    "    loss = train(model, train_loader, optimizer, epoch)\n",
    "    precision, f1score = test(model, test_loader)\n",
    "    \n",
    "    losses.append(loss)\n",
    "    precisions.append(precision)\n",
    "    f1scores.append(f1score)\n",
    "\n",
    "print(\"%d seconds have passed\" % (time()-start))\n",
    "print(\"Best precision = %.02f\" %(max(precisions)))\n",
    "print(\"Best f1 score = %.02f\" %(max(f1scores)))"
   ]
  },
  {
   "cell_type": "code",
   "execution_count": 128,
   "metadata": {
    "collapsed": false
   },
   "outputs": [
    {
     "data": {
      "image/png": "[encoded data removed]",
      "text/plain": [
       "<Figure size 432x288 with 1 Axes>"
      ]
     },
     "metadata": {},
     "output_type": "display_data"
    }
   ],
   "source": [
    "# Plot\n",
    "plt.title(\"upsample={}, VAT={}\".format(UPSAMPLE, VAT))\n",
    "plt.plot(losses, label=\"losses\")\n",
    "plt.plot(precisions, label=\"precisions\")\n",
    "plt.plot(f1scores, label=\"f1 scores\")\n",
    "plt.grid()\n",
    "plt.legend()\n",
    "plt.show()"
   ]
  },
  {
   "cell_type": "code",
   "execution_count": 131,
   "metadata": {
    "collapsed": false
   },
   "outputs": [
    {
     "data": {
      "image/png": "[encoded data removed]",
      "text/plain": [
       "<Figure size 432x288 with 1 Axes>"
      ]
     },
     "metadata": {},
     "output_type": "display_data"
    }
   ],
   "source": []
  },
  {
   "cell_type": "code",
   "execution_count": 134,
   "metadata": {
    "collapsed": false
   },
   "outputs": [
    {
     "data": {
      "image/png": "[encoded data removed]",
      "text/plain": [
       "<Figure size 432x288 with 1 Axes>"
      ]
     },
     "metadata": {},
     "output_type": "display_data"
    }
   ],
   "source": []
  },
  {
   "cell_type": "code",
   "execution_count": null,
   "metadata": {
    "collapsed": true
   },
   "outputs": [],
   "source": [
    "# Plot\n",
    "plt.title(\"upsample={}, VAT={}\".format(UPSAMPLE, VAT))\n",
    "plt.plot(losses, label=\"losses\")\n",
    "plt.plot(precisions, label=\"precisions\")\n",
    "plt.plot(f1scores, label=\"f1 scores\")\n",
    "plt.grid()\n",
    "plt.legend()\n",
    "plt.show()"
   ]
  }
 ],
 "metadata": {
  "anaconda-cloud": {},
  "kernelspec": {
   "display_name": "Python [conda env:deep]",
   "language": "python",
   "name": "conda-env-deep-py"
  },
  "language_info": {
   "codemirror_mode": {
    "name": "ipython",
    "version": 3
   },
   "file_extension": ".py",
   "mimetype": "text/x-python",
   "name": "python",
   "nbconvert_exporter": "python",
   "pygments_lexer": "ipython3",
   "version": "3.6.2"
  }
 },
 "nbformat": 4,
 "nbformat_minor": 2
}
